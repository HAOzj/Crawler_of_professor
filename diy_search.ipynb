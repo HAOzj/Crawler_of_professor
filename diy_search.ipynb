{
 "cells": [
  {
   "cell_type": "code",
   "execution_count": 1,
   "metadata": {},
   "outputs": [],
   "source": [
    "from elasticsearch import Elasticsearch"
   ]
  },
  {
   "cell_type": "code",
   "execution_count": 2,
   "metadata": {},
   "outputs": [],
   "source": [
    "es = Elasticsearch()"
   ]
  },
  {
   "cell_type": "code",
   "execution_count": 19,
   "metadata": {},
   "outputs": [],
   "source": [
    "import conf_loader\n",
    "body = {\n",
    "        \"query\":{\n",
    "                \"match\": {\n",
    "                    \"interests\": \"chronologiques\"\n",
    "                }\n",
    "    }\n",
    "}\n",
    "\n",
    "# body = {\n",
    "#     \"query\":{\n",
    "#         \"match_all\" : {}\n",
    "#     }\n",
    "# }\n",
    "\n",
    "res = es.search(index=conf_loader.index, body=body) \n",
    "            "
   ]
  },
  {
   "cell_type": "code",
   "execution_count": 20,
   "metadata": {},
   "outputs": [],
   "source": [
    "hits = res[\"hits\"][\"hits\"]"
   ]
  },
  {
   "cell_type": "code",
   "execution_count": 23,
   "metadata": {},
   "outputs": [
    {
     "name": "stdout",
     "output_type": "stream",
     "text": [
      "{'name': 'Duchesne, Pierre', 'email': 'duchesne@dms.umontreal.ca', 'title': 'Professeur titulaire', 'PhD': 'Ph.D. Montréal 2000', 'interests': ['Échantillonnage', 'Analyse de données multivariées', 'Séries chronologiques', 'Statistique appliquée']}\n",
      "\n",
      "{'name': 'Augustyniak, Maciej', 'email': 'augusty@dms.umontreal.ca', 'title': 'Professeur agregé', 'PhD': 'augusty@dms.umontreal.ca', 'interests': ['Actuariat', 'Finance mathématique', 'Gestion de risques', 'Séries chronologiques', 'Statistique computationnelle', 'Modélisation statistique', 'Inférence', 'Chaînes de Markov', 'Méthodes markoviennes de Monte Carlo', 'Méthodes de Monte Carlo', 'Sélection de modèles']}\n",
      "\n"
     ]
    }
   ],
   "source": [
    "for hit in hits:\n",
    "    print(hit[\"_source\"])\n",
    "    print()"
   ]
  },
  {
   "cell_type": "code",
   "execution_count": null,
   "metadata": {},
   "outputs": [],
   "source": []
  }
 ],
 "metadata": {
  "kernelspec": {
   "display_name": "Python 3",
   "language": "python",
   "name": "python3"
  },
  "language_info": {
   "codemirror_mode": {
    "name": "ipython",
    "version": 3
   },
   "file_extension": ".py",
   "mimetype": "text/x-python",
   "name": "python",
   "nbconvert_exporter": "python",
   "pygments_lexer": "ipython3",
   "version": "3.7.3"
  }
 },
 "nbformat": 4,
 "nbformat_minor": 2
}
